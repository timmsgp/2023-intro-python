{
  "nbformat": 4,
  "nbformat_minor": 0,
  "metadata": {
    "colab": {
      "provenance": []
    },
    "kernelspec": {
      "name": "python3",
      "display_name": "Python 3"
    },
    "language_info": {
      "name": "python"
    }
  },
  "cells": [
    {
      "cell_type": "markdown",
      "source": [
        "# **Welcome to Session 7 - Working with Classes**\n",
        "\n",
        "Most of the text and example code is taken directly or modified from the Python Documentation (see https://docs.python.org/3/tutorial/classes.html ) \n",
        "\n",
        "Classes provide a means of bundling data and functionality together. Creating a new class creates a new type of object, allowing new instances of that type to be made. Each class instance can have attributes attached to it for maintaining its state. Class instances can also have methods (defined by its class) for modifying its state.\n",
        "\n",
        "Compared with other programming languages, Python’s class mechanism adds classes with a minimum of new syntax and semantics. It is a mixture of the class mechanisms found in C++ and Modula-3. Python classes provide all the standard features of Object Oriented Programming: the class inheritance mechanism allows multiple base classes, a derived class can override any methods of its base class or classes, and a method can call the method of a base class with the same name. Objects can contain arbitrary amounts and kinds of data. As is true for modules, classes partake of the dynamic nature of Python: they are created at runtime, and can be modified further after creation.\n"
      ],
      "metadata": {
        "id": "iFN4m7xIcSWl"
      }
    },
    {
      "cell_type": "markdown",
      "source": [
        "## **Example 1 - Making and using our first object.  Start by defining a class.**"
      ],
      "metadata": {
        "id": "1zTHAyvrcYp-"
      }
    },
    {
      "cell_type": "code",
      "execution_count": null,
      "metadata": {
        "id": "Pc1HcmNUcNPw"
      },
      "outputs": [],
      "source": [
        "class Fish:\n",
        "    weight = 12345      \n",
        "    length = 104\n",
        "    day_caught = []\n",
        "\n",
        "    def Print_Length(self, species):   \n",
        "        print(f'The length of the first {species} sample is {self.length}')\n",
        "        return"
      ]
    },
    {
      "cell_type": "markdown",
      "source": [
        "**Class instantiation**"
      ],
      "metadata": {
        "id": "sQCxWI-NcfH2"
      }
    },
    {
      "cell_type": "code",
      "source": [
        "Fish_Sample_1 = Fish()"
      ],
      "metadata": {
        "id": "iFuo_dlBcoJX"
      },
      "execution_count": null,
      "outputs": []
    },
    {
      "cell_type": "markdown",
      "source": [
        "**Print the class**"
      ],
      "metadata": {
        "id": "zCmP7WV9cq92"
      }
    },
    {
      "cell_type": "code",
      "source": [
        "print(Fish_Sample_1)"
      ],
      "metadata": {
        "id": "aewXalhLcvRP"
      },
      "execution_count": null,
      "outputs": []
    },
    {
      "cell_type": "markdown",
      "source": [
        "**Print a variable in the class**"
      ],
      "metadata": {
        "id": "Gdg_bTiFcxoY"
      }
    },
    {
      "cell_type": "code",
      "source": [
        "print(f'The weight of the first fish sample is {Fish_Sample_1.weight}')"
      ],
      "metadata": {
        "id": "0jiSsMhtc35Q"
      },
      "execution_count": null,
      "outputs": []
    },
    {
      "cell_type": "markdown",
      "source": [
        "**Run a function from the class object**"
      ],
      "metadata": {
        "id": "7XiWRG-ac4zw"
      }
    },
    {
      "cell_type": "code",
      "source": [
        "Fish_Sample_1.Print_Length('seatrout')"
      ],
      "metadata": {
        "id": "xNAAvoxac9EQ"
      },
      "execution_count": null,
      "outputs": []
    },
    {
      "cell_type": "markdown",
      "source": [
        "**Make a lot of fish**"
      ],
      "metadata": {
        "id": "26ESyWnEc-9A"
      }
    },
    {
      "cell_type": "code",
      "source": [
        "LotsOfFish = []\n",
        "for count in range(0,10,1):\n",
        "    LotsOfFish.append(Fish())"
      ],
      "metadata": {
        "id": "DqtvRCXsdCNA"
      },
      "execution_count": null,
      "outputs": []
    },
    {
      "cell_type": "markdown",
      "source": [
        "**Show how many fish we made**"
      ],
      "metadata": {
        "id": "betR-sHQdD7h"
      }
    },
    {
      "cell_type": "code",
      "source": [
        "print(f'The number of fish is {len(LotsOfFish)}')"
      ],
      "metadata": {
        "id": "WOBoYLwPdGyR"
      },
      "execution_count": null,
      "outputs": []
    },
    {
      "cell_type": "markdown",
      "source": [
        "**Add a field specific to 1 record**"
      ],
      "metadata": {
        "id": "C-c8vGgSdIw4"
      }
    },
    {
      "cell_type": "code",
      "source": [
        "LotsOfFish[0].CaughtBy = 'Jeff'"
      ],
      "metadata": {
        "id": "-du1S7OFdMYC"
      },
      "execution_count": null,
      "outputs": []
    },
    {
      "cell_type": "markdown",
      "source": [
        "**Check that the first sample was updated**"
      ],
      "metadata": {
        "id": "unWrJUq4dPUB"
      }
    },
    {
      "cell_type": "code",
      "source": [
        "print(f'The first fish was caught by {LotsOfFish[0].CaughtBy}')\n",
        "print(f'The second fish was caught by {LotsOfFish[1].CaughtBy}')"
      ],
      "metadata": {
        "id": "eqTfNKlddUhx"
      },
      "execution_count": null,
      "outputs": []
    },
    {
      "cell_type": "markdown",
      "source": [
        "**Add data to a class variable**"
      ],
      "metadata": {
        "id": "dtsIzNmhdWex"
      }
    },
    {
      "cell_type": "code",
      "source": [
        "LotsOfFish[0].day_caught.append('Monday')"
      ],
      "metadata": {
        "id": "CdsH8encdeDh"
      },
      "execution_count": null,
      "outputs": []
    },
    {
      "cell_type": "markdown",
      "source": [
        "**What happens here?**"
      ],
      "metadata": {
        "id": "ws-y916tde_B"
      }
    },
    {
      "cell_type": "code",
      "source": [
        "print(f'The first sample was caught on a {LotsOfFish[0].day_caught}')\n",
        "print(f'The second sample was caught on a {LotsOfFish[1].day_caught}')"
      ],
      "metadata": {
        "id": "BItcnjaJdj6S"
      },
      "execution_count": null,
      "outputs": []
    },
    {
      "cell_type": "markdown",
      "source": [
        "**What happens here?**"
      ],
      "metadata": {
        "id": "f40e9rUGdlEp"
      }
    },
    {
      "cell_type": "code",
      "source": [
        "LotsOfFish[1].day_caught.append('Tuesday')\n",
        "\n",
        "print(f'The first sample was caught on a {LotsOfFish[0].day_caught}')\n",
        "print(f'The second sample was caught on a {LotsOfFish[1].day_caught}')"
      ],
      "metadata": {
        "id": "VHYw-XT0dq2T"
      },
      "execution_count": null,
      "outputs": []
    },
    {
      "cell_type": "markdown",
      "source": [
        "**Exercise 1:  Make a new python class that will track sampling location information.  Specifically, make 5 sample location instances with each instance tracking depth of 100 feet and surface temperature of 75 degrees.  Include a class function that prints the depth and use that function to print the depth for the 1st sampling location instance.**"
      ],
      "metadata": {
        "id": "qeJ9PpikLzIi"
      }
    },
    {
      "cell_type": "code",
      "source": [
        "\n",
        "\n",
        "\n"
      ],
      "metadata": {
        "id": "6bR3stCoL2z5"
      },
      "execution_count": null,
      "outputs": []
    },
    {
      "cell_type": "markdown",
      "source": [
        "## **Example 2 - Use of the __init__ function to make instance specific variables**"
      ],
      "metadata": {
        "id": "UPm2cMGjdv4T"
      }
    },
    {
      "cell_type": "markdown",
      "source": [
        "**Define a new class - note the use of __init__ function**"
      ],
      "metadata": {
        "id": "GSlMhxNKd8L9"
      }
    },
    {
      "cell_type": "code",
      "source": [
        "class SeaBass:\n",
        "    Age = 8\n",
        "    \n",
        "    def __init__(self, name = 'Forgot_Name'):\n",
        "        self.name = name\n",
        "    \n",
        "    def AgeMonths(self): \n",
        "        return self.Age * 12\n",
        "    \n",
        "    def PrintAge(self): \n",
        "        return print(f'{self.name} age is {self.Age} years which is {self.AgeMonths()} months') "
      ],
      "metadata": {
        "id": "CidQKd3QeGzc"
      },
      "execution_count": null,
      "outputs": []
    },
    {
      "cell_type": "markdown",
      "source": [
        "**Make an instance and print the age**"
      ],
      "metadata": {
        "id": "QgeW70dkeJYk"
      }
    },
    {
      "cell_type": "code",
      "source": [
        "Seabass_1 = SeaBass('Seabass_Sample_1')\n",
        "Seabass_1.PrintAge()"
      ],
      "metadata": {
        "id": "4-J4GtDAeO_s"
      },
      "execution_count": null,
      "outputs": []
    },
    {
      "cell_type": "markdown",
      "source": [
        "**Add a new field to the class for the Seabass_1 instance**"
      ],
      "metadata": {
        "id": "PPdpRzaKeQJV"
      }
    },
    {
      "cell_type": "code",
      "source": [
        "Seabass_1.Location = 'Charleston'\n",
        "print(f'{Seabass_1.name} was caught in {Seabass_1.Location}')  "
      ],
      "metadata": {
        "id": "xWEKJ0F3eYZF"
      },
      "execution_count": null,
      "outputs": []
    },
    {
      "cell_type": "markdown",
      "source": [
        "**Make a second class instance and update the age**"
      ],
      "metadata": {
        "id": "cwV4k0PBeZq5"
      }
    },
    {
      "cell_type": "code",
      "source": [
        "Seabass_2 = SeaBass('Seabass_Sample_2')\n",
        "Seabass_2.Age = 10 \n",
        "Seabass_2.PrintAge()"
      ],
      "metadata": {
        "id": "j97_7E4PelnG"
      },
      "execution_count": null,
      "outputs": []
    },
    {
      "cell_type": "markdown",
      "source": [
        "**Does this impact the first or a new instance?**"
      ],
      "metadata": {
        "id": "pw4Zk0XKemoG"
      }
    },
    {
      "cell_type": "code",
      "source": [
        "Seabass_1.PrintAge()\n",
        "\n",
        "Seabass_3 = SeaBass()\n",
        "Seabass_3.PrintAge()"
      ],
      "metadata": {
        "id": "9ZvnTzqPeu_I"
      },
      "execution_count": null,
      "outputs": []
    },
    {
      "cell_type": "markdown",
      "source": [
        "**Reassign Age within the class itself**"
      ],
      "metadata": {
        "id": "CSozLu4hewD_"
      }
    },
    {
      "cell_type": "code",
      "source": [
        "SeaBass.Age = 2 "
      ],
      "metadata": {
        "id": "nNRyGAKge2nn"
      },
      "execution_count": null,
      "outputs": []
    },
    {
      "cell_type": "markdown",
      "source": [
        "**What happens here...**"
      ],
      "metadata": {
        "id": "StphYOrwe54w"
      }
    },
    {
      "cell_type": "code",
      "source": [
        "Seabass_1.PrintAge()  # Changed - Notice the problem"
      ],
      "metadata": {
        "id": "_Eqq_64Ie8P_"
      },
      "execution_count": null,
      "outputs": []
    },
    {
      "cell_type": "code",
      "source": [
        "Seabass_2.PrintAge()  # Not changed"
      ],
      "metadata": {
        "id": "9dN-VBiMe8aW"
      },
      "execution_count": null,
      "outputs": []
    },
    {
      "cell_type": "code",
      "source": [
        "Seabass_3.PrintAge()  # Changed - Notice the problem"
      ],
      "metadata": {
        "id": "kmXHgWEle8h1"
      },
      "execution_count": null,
      "outputs": []
    },
    {
      "cell_type": "markdown",
      "source": [
        "***Exercise 2:  Change the Sampling Location class to use the __init__ function to assign different depths and surface temperatures to 2 different instances.  Print the surface temperature of the second instance.***"
      ],
      "metadata": {
        "id": "xOHsxlXtMALi"
      }
    },
    {
      "cell_type": "code",
      "source": [
        "\n",
        "\n",
        "\n"
      ],
      "metadata": {
        "id": "TszQoZaRMBVF"
      },
      "execution_count": null,
      "outputs": []
    },
    {
      "cell_type": "markdown",
      "source": [
        "## **Example 3 - How to ensure our data integrity.  Use of accessors and properties to check data input.**"
      ],
      "metadata": {
        "id": "BWTW6e_TfNkZ"
      }
    },
    {
      "cell_type": "markdown",
      "source": [
        "**Simple class definition**"
      ],
      "metadata": {
        "id": "MMTWuQ2IfLox"
      }
    },
    {
      "cell_type": "code",
      "source": [
        "class Whale:\n",
        "    def __init__(self, species):\n",
        "        self.species = species  # anyone can modify this freely"
      ],
      "metadata": {
        "id": "J6fxo0ISfaex"
      },
      "execution_count": null,
      "outputs": []
    },
    {
      "cell_type": "markdown",
      "source": [
        "**Make a whale sample and try to change species**"
      ],
      "metadata": {
        "id": "sQGB_VErfhZ6"
      }
    },
    {
      "cell_type": "code",
      "source": [
        "Whale_Sample_1 = Whale('Humpback')\n",
        "print(f'Whale_Sample_1 is species: {Whale_Sample_1.species}')"
      ],
      "metadata": {
        "id": "68IewzE_fisC"
      },
      "execution_count": null,
      "outputs": []
    },
    {
      "cell_type": "markdown",
      "source": [
        "**Try to change to yet another species...**"
      ],
      "metadata": {
        "id": "gJahdpK3flmJ"
      }
    },
    {
      "cell_type": "code",
      "source": [
        "Whale_Sample_1.species = 'Pilot'\n",
        "print(f'Whale_Sample_1 is now species: {Whale_Sample_1.species} - NOTE SPECIES CAN BE MODIFIED DIRECTLY')"
      ],
      "metadata": {
        "id": "ymeexTMzfr55"
      },
      "execution_count": null,
      "outputs": []
    },
    {
      "cell_type": "markdown",
      "source": [
        "**Make a Whale class, but use accessors this time...**"
      ],
      "metadata": {
        "id": "ulAI-T95ftmr"
      }
    },
    {
      "cell_type": "code",
      "source": [
        "class WhaleWithAccessors:\n",
        "    def __init__(self, species):\n",
        "        self._species = species\n",
        "\n",
        "    def get_species(self):\n",
        "        return self._species\n",
        "\n",
        "    def set_species(self, species):\n",
        "        if species in [\"Humpback\", \"Blue\", \"Minke\"]:\n",
        "            self._species = species\n",
        "        else:\n",
        "            raise ValueError('Species must be either Humpback, Blue, or Minke')"
      ],
      "metadata": {
        "id": "Owi-HB8If1Th"
      },
      "execution_count": null,
      "outputs": []
    },
    {
      "cell_type": "markdown",
      "source": [
        "**Make a new class instance and try to change the species**"
      ],
      "metadata": {
        "id": "vb2S-vUEf3oN"
      }
    },
    {
      "cell_type": "code",
      "source": [
        "Whale_Sample_2 = WhaleWithAccessors('Blue')\n",
        "print(f'Whale_Sample_2 is species: {Whale_Sample_2._species}')\n",
        "print('\\nTry to directly change species with species not in list...\\n')\n",
        "Whale_Sample_2._species = 'Pilot'\n",
        "print(f'Whale_Sample_2 is now species: {Whale_Sample_2.get_species()} - NOTE SPECIES CAN STILL BE MODIFIED DIRECTLY')"
      ],
      "metadata": {
        "id": "NNGjopCtgSJM"
      },
      "execution_count": null,
      "outputs": []
    },
    {
      "cell_type": "markdown",
      "source": [
        "**Try to change to a species not on the list using accessors**"
      ],
      "metadata": {
        "id": "jCP1leYmgXHV"
      }
    },
    {
      "cell_type": "code",
      "source": [
        "print('\\n\\nTry to change species with set_species with species in list...\\n')\n",
        "Whale_Sample_2.set_species('Humpback')\n",
        "print(f'Whale_Sample_2 is now species: {Whale_Sample_2.get_species()} - WORKS!')\n",
        "\n",
        "print('\\n\\nTry to change species with set_species with species not in list...\\n')\n",
        "Whale_Sample_2.set_species('Pilot')"
      ],
      "metadata": {
        "id": "om2ArFBhgkOF"
      },
      "execution_count": null,
      "outputs": []
    },
    {
      "cell_type": "markdown",
      "source": [
        "## Make a whale class using properties"
      ],
      "metadata": {
        "id": "m94yb4zNgmD2"
      }
    },
    {
      "cell_type": "code",
      "source": [
        "class WhaleWithProperties:\n",
        "    def __init__(self, species):\n",
        "        self._species = species\n",
        "\n",
        "    @property\n",
        "    def species(self):\n",
        "        print('Made it within species property....')\n",
        "        return self._species\n",
        "\n",
        "    @species.setter\n",
        "    def species(self, species):\n",
        "        if species in [\"Humpback\", \"Blue\", \"Minke\"]:\n",
        "            self._species = species\n",
        "        else:\n",
        "            raise ValueError('Species must be either Humpback, Blue, or Minke')"
      ],
      "metadata": {
        "id": "pGq2qoZvgsBF"
      },
      "execution_count": null,
      "outputs": []
    },
    {
      "cell_type": "markdown",
      "source": [
        "**Make a whale properties class instance and print the species using a getter**"
      ],
      "metadata": {
        "id": "gH-yJr6CguyU"
      }
    },
    {
      "cell_type": "code",
      "source": [
        "Whale_Sample_3 = WhaleWithProperties('Minke')\n",
        "print(f'Whale_Sample_3 is species: {Whale_Sample_3.species} - NOTE ACCESSED WITH @property')"
      ],
      "metadata": {
        "id": "Kwj42lbqhHrN"
      },
      "execution_count": null,
      "outputs": []
    },
    {
      "cell_type": "markdown",
      "source": [
        "**Change the class instance to a whale species on the list**"
      ],
      "metadata": {
        "id": "SGmZfUNjhKxG"
      }
    },
    {
      "cell_type": "code",
      "source": [
        "print('\\nTry to change species with species on list...\\n')\n",
        "Whale_Sample_3.species = 'Humpback'\n",
        "print(f'Whale_Sample_3 is species: {Whale_Sample_3.species} - NOTE ACCESSED WITH @property')"
      ],
      "metadata": {
        "id": "ad0TRmjbhSWW"
      },
      "execution_count": null,
      "outputs": []
    },
    {
      "cell_type": "markdown",
      "source": [
        "**Change the class instance to a whale species not on the list**"
      ],
      "metadata": {
        "id": "Bb5IPW_ghUPv"
      }
    },
    {
      "cell_type": "code",
      "source": [
        "print('\\nTry to directly change species with species not in list...\\n')\n",
        "Whale_Sample_3.species = 'Pilot'"
      ],
      "metadata": {
        "id": "XYMvK9CvhXb2"
      },
      "execution_count": null,
      "outputs": []
    },
    {
      "cell_type": "markdown",
      "source": [
        "**Exercise 3:  Change the WhaleWithProperties class to add a fourth possible whale species (Gray whale).  Make a class instance of a Blue whale, print the whale species, change the instance to a Gray whale, and print the updated species.**"
      ],
      "metadata": {
        "id": "H7TAT14DMEYB"
      }
    },
    {
      "cell_type": "code",
      "source": [
        "\n",
        "\n",
        "\n",
        "\n"
      ],
      "metadata": {
        "id": "058aXbLkMKci"
      },
      "execution_count": null,
      "outputs": []
    },
    {
      "cell_type": "markdown",
      "source": [
        "**Example 4 - Class inheritance and changing __functions__ (magic methods)**"
      ],
      "metadata": {
        "id": "gHk4cooohaJI"
      }
    },
    {
      "cell_type": "code",
      "source": [
        "class Coral:\n",
        "    def __init__(self, depth):\n",
        "        self._depth = depth\n",
        "\n",
        "    def PrintDepth(self):\n",
        "        print(f'The coral was collected at {self._depth} feet')\n",
        "\n",
        "class HardCoral(Coral):\n",
        "    def __init__(self, depth, CoralType):\n",
        "        super().__init__(depth)\n",
        "        self._CoralType = CoralType\n",
        "\n",
        "    def PrintCoralType(self):\n",
        "        print(f'The coral type collected was {self._CoralType}')\n",
        "        \n",
        "    def __bool__(self):\n",
        "        return self._depth < 100"
      ],
      "metadata": {
        "id": "klKopW1bhgCl"
      },
      "execution_count": null,
      "outputs": []
    },
    {
      "cell_type": "markdown",
      "source": [
        "**Make a class instance with inheritance**"
      ],
      "metadata": {
        "id": "A8zHeBKyhibn"
      }
    },
    {
      "cell_type": "code",
      "source": [
        "Coral_Sample_1 = HardCoral(70, 'brain')"
      ],
      "metadata": {
        "id": "aEKLqpS1hoG_"
      },
      "execution_count": null,
      "outputs": []
    },
    {
      "cell_type": "markdown",
      "source": [
        "**How to access variables and functions in both the parent and child class**"
      ],
      "metadata": {
        "id": "rQnl_yAKho-Y"
      }
    },
    {
      "cell_type": "code",
      "source": [
        "print(Coral_Sample_1._CoralType)\n",
        "print(Coral_Sample_1._depth)\n",
        "\n",
        "Coral_Sample_1.PrintCoralType()\n",
        "Coral_Sample_1.PrintDepth()"
      ],
      "metadata": {
        "id": "9z_NuNJChv1o"
      },
      "execution_count": null,
      "outputs": []
    },
    {
      "cell_type": "markdown",
      "source": [
        "**Example of a bool function call**"
      ],
      "metadata": {
        "id": "PoCSfWgCh3r4"
      }
    },
    {
      "cell_type": "code",
      "source": [
        "print(f'100 is less than 105: {bool(100<105)}')"
      ],
      "metadata": {
        "id": "5O1lmJ7Yh-9K"
      },
      "execution_count": null,
      "outputs": []
    },
    {
      "cell_type": "markdown",
      "source": [
        "**How does bool work for Coral_Sample_1?**"
      ],
      "metadata": {
        "id": "0PgarxvPiABC"
      }
    },
    {
      "cell_type": "code",
      "source": [
        "if (bool(Coral_Sample_1)):\n",
        "    print(f'Coral_Sample_1 is a shallow coral')\n",
        "else:\n",
        "    print(f'Coral_Sample_1 is a Deep Coral')"
      ],
      "metadata": {
        "id": "zPNKpZJpiEQ8"
      },
      "execution_count": null,
      "outputs": []
    },
    {
      "cell_type": "markdown",
      "source": [
        "**Lets make a deep coral**"
      ],
      "metadata": {
        "id": "bo5OOYFWiGQR"
      }
    },
    {
      "cell_type": "code",
      "source": [
        "Coral_Sample_2 = HardCoral(300, CoralType= 'Oculina varicosa')\n",
        "Coral_Sample_2.PrintCoralType()\n",
        "Coral_Sample_2.PrintDepth()\n",
        "\n",
        "if (bool(Coral_Sample_2)):\n",
        "    print(f'Coral_Sample_2 is a shallow coral')\n",
        "else:\n",
        "    print(f'Coral_Sample_2 is a Deep Coral')"
      ],
      "metadata": {
        "id": "AZ02zKeqiTJD"
      },
      "execution_count": null,
      "outputs": []
    },
    {
      "cell_type": "markdown",
      "source": [
        "**Exercise 4:  Using the existing definitions for the HardCoral and Coral classes, make a new instance of a mushroom coral collected from 73 feet of water and print the depth.**"
      ],
      "metadata": {
        "id": "mI4t9RfsMTVl"
      }
    },
    {
      "cell_type": "code",
      "source": [
        "\n",
        "\n",
        "\n",
        "\n"
      ],
      "metadata": {
        "id": "LCQV-3UmMUMa"
      },
      "execution_count": null,
      "outputs": []
    },
    {
      "cell_type": "markdown",
      "source": [
        "## **Background information on a final uses of classes**\n",
        "\n",
        "## Using a class to store related functions rather than hold data."
      ],
      "metadata": {
        "id": "BAHU4CobiWmz"
      }
    },
    {
      "cell_type": "code",
      "source": [
        "class WordUtilities:\n",
        "\n",
        "    @staticmethod\n",
        "    def print_first_word(sentence):\n",
        "        words = sentence.split()\n",
        "        return words[0]\n",
        "\n",
        "    @staticmethod\n",
        "    def print_second_word(sentence):\n",
        "        words = sentence.split()\n",
        "        return words[1]\n",
        "    \n",
        "    @staticmethod\n",
        "    def print_longest_word(sentence):\n",
        "        words = sentence.split()\n",
        "        words = sorted(words, key = len)  # order of their lengths\n",
        "        return words[-1]   # returns the last word in the list"
      ],
      "metadata": {
        "id": "wl6l1_DCik-L"
      },
      "execution_count": null,
      "outputs": []
    },
    {
      "cell_type": "markdown",
      "source": [
        "**Set a sentence and then call the functions in the class - good way to organize functions**"
      ],
      "metadata": {
        "id": "d7FchWheimAO"
      }
    },
    {
      "cell_type": "code",
      "source": [
        "sentence = 'Big fish live in the lake by the alligator with 2 teeth'\n",
        "print(f'The sentence is : {sentence}\\n')\n",
        "print(f'The first word in the sentence is:  {WordUtilities.print_first_word(sentence)}')\n",
        "print(f'The second word in the sentence is:  {WordUtilities.print_second_word(sentence)}')\n",
        "print(f'The longest word in the sentence is:  {WordUtilities.print_longest_word(sentence)}')"
      ],
      "metadata": {
        "id": "h96p7l50iutM"
      },
      "execution_count": null,
      "outputs": []
    }
  ]
}